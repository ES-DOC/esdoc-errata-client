{
 "cells": [
  {
   "cell_type": "markdown",
   "metadata": {},
   "source": [
    "Scenario to check errata service is fully operational\n",
    "=============================\n",
    "Install the errata client\n",
    "------------------------"
   ]
  },
  {
   "cell_type": "code",
   "execution_count": 2,
   "metadata": {
    "collapsed": true
   },
   "outputs": [
    {
     "name": "stdout",
     "output_type": "stream",
     "text": [
      "Requirement already up-to-date: esgissue-client in /Users/glipsl/anaconda/lib/python2.7/site-packages\n",
      "Requirement already up-to-date: repoze.lru in /Users/glipsl/anaconda/lib/python2.7/site-packages (from esgissue-client)\n",
      "Requirement already up-to-date: argparse in /Users/glipsl/anaconda/lib/python2.7/site-packages (from esgissue-client)\n",
      "Requirement already up-to-date: requests in /Users/glipsl/anaconda/lib/python2.7/site-packages (from esgissue-client)\n",
      "Requirement already up-to-date: pbkdf2 in /Users/glipsl/anaconda/lib/python2.7/site-packages (from esgissue-client)\n",
      "Requirement already up-to-date: pyDes in /Users/glipsl/anaconda/lib/python2.7/site-packages (from esgissue-client)\n",
      "Collecting simplejson (from esgissue-client)\n",
      "  Downloading simplejson-3.13.2.tar.gz (79kB)\n",
      "\u001b[K    100% |████████████████████████████████| 81kB 1.1MB/s ta 0:00:01\n",
      "\u001b[?25hRequirement already up-to-date: jsonschema in /Users/glipsl/anaconda/lib/python2.7/site-packages (from esgissue-client)\n",
      "Requirement already up-to-date: functools32 in /Users/glipsl/anaconda/lib/python2.7/site-packages (from esgissue-client)\n",
      "Requirement already up-to-date: chardet<3.1.0,>=3.0.2 in /Users/glipsl/anaconda/lib/python2.7/site-packages (from requests->esgissue-client)\n",
      "Requirement already up-to-date: certifi>=2017.4.17 in /Users/glipsl/anaconda/lib/python2.7/site-packages (from requests->esgissue-client)\n",
      "Requirement already up-to-date: urllib3<1.23,>=1.21.1 in /Users/glipsl/anaconda/lib/python2.7/site-packages (from requests->esgissue-client)\n",
      "Requirement already up-to-date: idna<2.7,>=2.5 in /Users/glipsl/anaconda/lib/python2.7/site-packages (from requests->esgissue-client)\n",
      "Building wheels for collected packages: simplejson\n",
      "  Running setup.py bdist_wheel for simplejson ... \u001b[?25ldone\n",
      "\u001b[?25h  Stored in directory: /Users/glipsl/Library/Caches/pip/wheels/c2/d0/42/5d1d1290c19d999277582c585f80426c61987aff01eb104ed6\n",
      "Successfully built simplejson\n",
      "Installing collected packages: simplejson\n",
      "  Found existing installation: simplejson 3.10.0\n",
      "    Uninstalling simplejson-3.10.0:\n",
      "      Successfully uninstalled simplejson-3.10.0\n",
      "Successfully installed simplejson-3.13.2\n"
     ]
    }
   ],
   "source": [
    "# Simple pip installation\n",
    "pip install esgissue-client --upgrade"
   ]
  },
  {
   "cell_type": "markdown",
   "metadata": {},
   "source": [
    "Setting up errata access\n",
    "-----------------------\n",
    "1. Contact your ES-DOC-ERRATA administrator to be part the organization team specified for the institute and project you on behalf of which wishes to publish errata.\n",
    "2. Go on [your GitHub profile](https://github.com/settings/profile)\n",
    "3. Click on <button>[Developer Settings](https://github.com/settings/developers)</button>\n",
    "4. Click on <button>[Personal Access Token](https://github.com/settings/tokens)</button>\n",
    "5. Click on <button>[Generate new token](https://github.com/settings/tokens/new)</button>\n",
    "6. Name your token **\"ESGF Errata Client\"** as its *Description*\n",
    "7. Tick the box scope: **`orgs:READ`**\n",
    "8. Click on <button>Generate token</button>\n",
    "9. Copy the generated token in your clipboard \n",
    "\n",
    "Credentials management\n",
    "---------------------"
   ]
  },
  {
   "cell_type": "code",
   "execution_count": 2,
   "metadata": {
    "collapsed": true
   },
   "outputs": [
    {
     "name": "stdout",
     "output_type": "stream",
     "text": [
      "Username: Keyboard interruption, exiting...\r\n"
     ]
    }
   ],
   "source": [
    "# Solution 1 (recommended): generate an encrypted token local file\n",
    "## Create credential\n",
    "esgissue credset -u xxxxxxx -t xxxxxxx --pass xxxxxxxx\n",
    "## Reset credential\n",
    "esgissue credreset -u xxxxxxx -t xxxxxxx --pass xxxxxxxx\n",
    "## Change passphrase\n",
    "esgissue changepass --oldpass xxxxxxxxx --newpass xxxxxxxx\n",
    "\n",
    "# Solution 2: export your GitHub token as an environement variable\n",
    "export ERRATA_GITHUB_USERNAME=xxxxxxxxxxxxxxxxxxxxxxxxxxxxxxxxx\n",
    "export ERRATA_CLIENT_GITHUB_TOKEN=xxxxxxxxxxxxxxxxxxxxxxxxxxxxxxxxx"
   ]
  },
  {
   "cell_type": "markdown",
   "metadata": {},
   "source": [
    "Create an issue\n",
    "---------------"
   ]
  },
  {
   "cell_type": "code",
   "execution_count": 5,
   "metadata": {
    "collapsed": true
   },
   "outputs": [
    {
     "name": "stdout",
     "output_type": "stream",
     "text": [
      "2018/01/12 10:50:02 AM WARNING ESDOC_HOME environment variable is not defined, using installation location for files\n",
      "Passphrase: Keyboard interruption, exiting...\n"
     ]
    }
   ],
   "source": [
    "# Edit the issue\n",
    "cat << EOF > issue.json\n",
    "{\n",
    "    \"title\": \"Test issue title\",\n",
    "    \"description\": \"This is a test description, void of meaning.\",\n",
    "    \"project\": \"cmip6\",\n",
    "    \"severity\": \"medium\",\n",
    "    \"materials\": [\n",
    "        \"http://myerrata.com/images/before.jpg\",\n",
    "        \"http://myerrata.com/images/after.jpg\"\n",
    "    ],\n",
    "    \"url\": \"http://websitetest.com/\"\n",
    "}\n",
    "EOF\n",
    "\n",
    "# List the affected dataset IDs\n",
    "cat << EOF > dsets.txt\n",
    "cmip6.CMIP.IPSL.IPSL-CM6-1.historical.r1i1p1f1.3hr.clt.gr.v20170531\n",
    "cmip6.CMIP.IPSL.IPSL-CM6-1.historical.r1i1p1f1.Amon.tas.gr.v20170531\n",
    "EOF\n",
    "\n",
    "# Register the issue\n",
    "esgissue create --issue issue.json --dsets dsets.txt"
   ]
  },
  {
   "cell_type": "markdown",
   "metadata": {},
   "source": [
    "Check your issue is available at the URL retuned by the client (see [Errata Search](https://test-errata.es-doc.org/)"
   ]
  },
  {
   "cell_type": "markdown",
   "metadata": {},
   "source": [
    "Update an issue\n",
    "--------------"
   ]
  },
  {
   "cell_type": "code",
   "execution_count": null,
   "metadata": {
    "collapsed": true
   },
   "outputs": [],
   "source": [
    "# Modify the issue\n",
    "cat << EOF > issue.json\n",
    "{\n",
    "    \"uid\": \"xxxxxxxx-xxxx-xxxx-xxxx-xxxxxxxxxxxx\",\n",
    "    \"title\": \"Test issue title\",\n",
    "    \"description\": \"This is a NEW test description, void of meaning.\",\n",
    "    \"project\": \"cmip6\",\n",
    "    \"severity\": \"critical\",\n",
    "    \"materials\": [\n",
    "        \"http://myerrata.com/images/before.jpg\",\n",
    "        \"http://myerrata.com/images/after.jpg\"\n",
    "    ],\n",
    "    \"url\": \"http://websitetest.com/\",\n",
    "    \"status\": \"onhold\",\n",
    "    \"dateClosed\": \"YYYY-MM-DD HH:MM:SS\",\n",
    "    \"dateUpdated\": \"YYYY-MM-DD HH:MM:SS\"\n",
    "}\n",
    "EOF\n",
    "\n",
    "# Modify the affected dataset IDs list\n",
    "cat << EOF > dsets.txt\n",
    "cmip6.CMIP.IPSL.IPSL-CM6-1.historical.r1i1p1f1.6hr.clt.gr.v20170531\n",
    "cmip6.CMIP.IPSL.IPSL-CM6-1.historical.r1i1p1f1.Amon.tas.gr.v20170531\n",
    "cmip6.CMIP.IPSL.IPSL-CM6-1.historical.r1i1p1f1.day.tas.gr.v20170630\n",
    "EOF\n",
    "\n",
    "# Update the issue\n",
    "esgissue update --issue issue.json --dsets dsets.txt"
   ]
  },
  {
   "cell_type": "markdown",
   "metadata": {},
   "source": [
    "Check your issue has been properly modified on the [Errata Viewer](https://test-errata.es-doc.org/)"
   ]
  },
  {
   "cell_type": "markdown",
   "metadata": {},
   "source": [
    "Close an issue\n",
    "-------------"
   ]
  },
  {
   "cell_type": "code",
   "execution_count": null,
   "metadata": {
    "collapsed": true
   },
   "outputs": [],
   "source": [
    "# Close the issue\n",
    "esgissue close --issue issue.json --dsets dsets.txt --status \"resolved\""
   ]
  },
  {
   "cell_type": "markdown",
   "metadata": {},
   "source": [
    "Check your issue has been closed with appropriate status on the [Errata Viewer](https://test-errata.es-doc.org/)"
   ]
  },
  {
   "cell_type": "markdown",
   "metadata": {},
   "source": [
    "Retrieve an issue\n",
    "----------------"
   ]
  },
  {
   "cell_type": "code",
   "execution_count": null,
   "metadata": {
    "collapsed": true
   },
   "outputs": [],
   "source": [
    "# Retrive the issue\n",
    "esgissue retrieve --id xxxxxxxx-xxxx-xxxx-xxxx-xxxxxxxxxxxx"
   ]
  },
  {
   "cell_type": "markdown",
   "metadata": {},
   "source": [
    "PID lookup\n",
    "----------\n",
    "\n",
    "1. Go on [Errata PID lookup](https://test-errata.es-doc.org/pid.html)\n",
    "2. Enter a PID or a dataset IDs or a filename or upload a list of them.\n",
    "5. Click on <button>Search</button>"
   ]
  },
  {
   "cell_type": "code",
   "execution_count": null,
   "metadata": {
    "collapsed": true
   },
   "outputs": [],
   "source": []
  }
 ],
 "metadata": {
  "kernelspec": {
   "display_name": "Bash",
   "language": "bash",
   "name": "bash"
  },
  "language_info": {
   "codemirror_mode": "shell",
   "file_extension": ".sh",
   "mimetype": "text/x-sh",
   "name": "bash"
  }
 },
 "nbformat": 4,
 "nbformat_minor": 2
}
