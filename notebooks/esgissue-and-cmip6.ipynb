{
 "cells": [
  {
   "cell_type": "markdown",
   "metadata": {},
   "source": [
    "Scenario to check errata service is fully operational\n",
    "=============================\n",
    "Install the errata client\n",
    "------------------------"
   ]
  },
  {
   "cell_type": "code",
   "execution_count": null,
   "metadata": {
    "collapsed": true
   },
   "outputs": [],
   "source": [
    "# Simple pip installation\n",
    "pip install esgissue-client --upgrade"
   ]
  },
  {
   "cell_type": "markdown",
   "metadata": {},
   "source": [
    "Setting up errata access\n",
    "-----------------------\n",
    "1. Ask authorization for errata publication: authorization is controlled using GitHub’s organizations invitational based structure. The ES-DOC officers are the only person qualified to add GitHub users to the requested teams. For the authorization, a user needs to be part of the organization team specified for the institute and project he/she on behalf of which wishes to publish errata. Ask [Mark Greenslate](mailto:momipsl@ipsl.fr) or [David Hassell](mailto:david.hassell@ncas.ac.uk) to add your GitHub username as part of the `cmip6-<your_institute>` and `errata-publication` teams of the `ES-DOC-INSTITUTIONAL` organization\n",
    "2. Go on [your GitHub profile](https://github.com/settings/profile)\n",
    "3. Click on **[Developer Settings](https://github.com/settings/developers)**\n",
    "4. Click on **[Personal Access Token](https://github.com/settings/tokens)**\n",
    "5. Click on **[Generate new token](https://github.com/settings/tokens/new)**\n",
    "6. Name your token **\"ESGF Errata Client\"** as its *Description*\n",
    "7. Tick the box scope: **`orgs:READ`**\n",
    "8. Click on **Generate token**\n",
    "9. Copy the generated token in your clipboard \n",
    "\n",
    "Credentials management\n",
    "---------------------"
   ]
  },
  {
   "cell_type": "code",
   "execution_count": null,
   "metadata": {
    "collapsed": true
   },
   "outputs": [],
   "source": [
    "# Solution 1 (recommended): generate an encrypted token local file\n",
    "## Create credential\n",
    "esgissue credset -u xxxxxxx -t xxxxxxx --pass xxxxxxxx\n",
    "## Reset credential\n",
    "esgissue credreset -u xxxxxxx -t xxxxxxx --pass xxxxxxxx\n",
    "## Change passphrase\n",
    "esgissue changepass --oldpass xxxxxxxxx --newpass xxxxxxxx\n",
    "\n",
    "# Solution 2: export your GitHub token as an environement variable\n",
    "export ESDOC_HOME=~/.esdoc\n",
    "export ERRATA_GITHUB_USERNAME=xxxxxxxxxxxxxxxxxxxxxxxxxxxxxxxxx\n",
    "export ERRATA_CLIENT_GITHUB_TOKEN=xxxxxxxxxxxxxxxxxxxxxxxxxxxxxxxxx"
   ]
  },
  {
   "cell_type": "markdown",
   "metadata": {},
   "source": [
    "Create an issue\n",
    "---------------"
   ]
  },
  {
   "cell_type": "code",
   "execution_count": null,
   "metadata": {
    "collapsed": true
   },
   "outputs": [],
   "source": [
    "# Edit the issue\n",
    "cat << EOF > issue.json\n",
    "{\n",
    "    \"title\": \"Test issue title\",\n",
    "    \"description\": \"This is a test description, void of meaning.\",\n",
    "    \"project\": \"cmip6\",\n",
    "    \"severity\": \"medium\",\n",
    "    \"materials\": [\n",
    "        \"https://upload.wikimedia.org/wikipedia/commons/a/a4/Socrates_Louvre.jpg\",\n",
    "        \"https://upload.wikimedia.org/wikipedia/commons/b/b0/Ethanol-3D-balls.png\"\n",
    "    ],\n",
    "    \"urls\": [\n",
    "        \"http://www.bbc.co.uk/weather/2655262\"\n",
    "    ]\n",
    "}\n",
    "EOF\n",
    "\n",
    "# List the affected dataset IDs\n",
    "cat << EOF > dsets.txt\n",
    "cmip6.CMIP.IPSL.IPSL-CM6A-LR.historical.r1i1p1f1.3hr.clt.gr.v20170531\n",
    "cmip6.CMIP.IPSL.IPSL-CM6A-LR.historical.r1i1p1f1.Amon.tas.gr.v20170531\n",
    "EOF\n",
    "\n",
    "# Register the issue\n",
    "esgissue create --issue issue.json --dsets dsets.txt"
   ]
  },
  {
   "cell_type": "markdown",
   "metadata": {},
   "source": [
    "Check your issue is available at the URL retuned by the client (see [Errata Search](https://test-errata.es-doc.org/))"
   ]
  },
  {
   "cell_type": "markdown",
   "metadata": {},
   "source": [
    "Update an issue\n",
    "--------------"
   ]
  },
  {
   "cell_type": "code",
   "execution_count": null,
   "metadata": {
    "collapsed": true
   },
   "outputs": [],
   "source": [
    "# Modify the issue\n",
    "cat << EOF > issue.json\n",
    "{\n",
    "    \"uid\": \"xxxxxxxx-xxxx-xxxx-xxxx-xxxxxxxxxxxx\",\n",
    "    \"title\": \"Test issue title\",\n",
    "    \"description\": \"This is a NEW test description, void of meaning.\",\n",
    "    \"project\": \"cmip6\",\n",
    "    \"severity\": \"critical\",\n",
    "    \"materials\": [\n",
    "        \"https://upload.wikimedia.org/wikipedia/commons/a/a4/Socrates_Louvre.jpg\",\n",
    "        \"https://upload.wikimedia.org/wikipedia/commons/b/b0/Ethanol-3D-balls.png\"\n",
    "    ],\n",
    "    \"urls\": [\n",
    "        \"http://www.bbc.co.uk/weather/2655262\"\n",
    "    ],\n",
    "    \"status\": \"onhold\",\n",
    "    \"dateClosed\": \"YYYY-MM-DD HH:MM:SS\",\n",
    "    \"dateUpdated\": \"YYYY-MM-DD HH:MM:SS\"\n",
    "}\n",
    "EOF\n",
    "\n",
    "# Modify the affected dataset IDs list\n",
    "cat << EOF > dsets.txt\n",
    "cmip6.CMIP.IPSL.IPSL-CM6A-LR.historical.r1i1p1f1.6hr.clt.gr.v20170531\n",
    "cmip6.CMIP.IPSL.IPSL-CM6A-LR.historical.r1i1p1f1.Amon.tas.gr.v20170531\n",
    "cmip6.CMIP.IPSL.IPSL-CM6A-LR.historical.r1i1p1f1.day.tas.gr.v20170630\n",
    "EOF\n",
    "\n",
    "# Update the issue\n",
    "esgissue update --issue issue.json --dsets dsets.txt"
   ]
  },
  {
   "cell_type": "markdown",
   "metadata": {},
   "source": [
    "Check your issue has been properly modified on the [Errata Viewer](https://test-errata.es-doc.org/)"
   ]
  },
  {
   "cell_type": "markdown",
   "metadata": {},
   "source": [
    "Close an issue\n",
    "-------------"
   ]
  },
  {
   "cell_type": "code",
   "execution_count": null,
   "metadata": {
    "collapsed": true
   },
   "outputs": [],
   "source": [
    "# Close the issue\n",
    "esgissue close --issue issue.json --dsets dsets.txt --status \"resolved\""
   ]
  },
  {
   "cell_type": "markdown",
   "metadata": {},
   "source": [
    "Check your issue has been closed with appropriate status on the [Errata Viewer](https://test-errata.es-doc.org/)"
   ]
  },
  {
   "cell_type": "markdown",
   "metadata": {},
   "source": [
    "Retrieve an issue\n",
    "----------------"
   ]
  },
  {
   "cell_type": "code",
   "execution_count": null,
   "metadata": {
    "collapsed": true
   },
   "outputs": [],
   "source": [
    "# Retrive the issue\n",
    "esgissue retrieve --id xxxxxxxx-xxxx-xxxx-xxxx-xxxxxxxxxxxx"
   ]
  },
  {
   "cell_type": "markdown",
   "metadata": {},
   "source": [
    "PID lookup\n",
    "----------\n",
    "\n",
    "1. Go on [Errata PID lookup](https://test-errata.es-doc.org/pid.html)\n",
    "2. Enter a PID or a dataset IDs or a filename or upload a list of them.\n",
    "5. Click on **Search**"
   ]
  }
 ],
 "metadata": {
  "kernelspec": {
   "display_name": "Bash",
   "language": "bash",
   "name": "bash"
  },
  "language_info": {
   "codemirror_mode": "shell",
   "file_extension": ".sh",
   "mimetype": "text/x-sh",
   "name": "bash"
  }
 },
 "nbformat": 4,
 "nbformat_minor": 2
}
